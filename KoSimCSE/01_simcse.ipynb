{
 "cells": [
  {
   "cell_type": "code",
   "execution_count": 1,
   "metadata": {},
   "outputs": [
    {
     "name": "stderr",
     "output_type": "stream",
     "text": [
      "/home/piai/miniconda3/envs/boaz/lib/python3.8/site-packages/tqdm/auto.py:22: TqdmWarning: IProgress not found. Please update jupyter and ipywidgets. See https://ipywidgets.readthedocs.io/en/stable/user_install.html\n",
      "  from .autonotebook import tqdm as notebook_tqdm\n",
      "2023-02-19 09:53:36.428497: I tensorflow/stream_executor/platform/default/dso_loader.cc:49] Successfully opened dynamic library libcudart.so.11.0\n"
     ]
    }
   ],
   "source": [
    "import numpy as np\n",
    "from model.utils import pytorch_cos_sim\n",
    "from data.dataloader import convert_to_tensor, example_model_setting\n",
    "import json\n",
    "import glob\n",
    "import xml.etree.ElementTree as et"
   ]
  },
  {
   "cell_type": "code",
   "execution_count": 2,
   "metadata": {},
   "outputs": [],
   "source": [
    "def preprocess(paths):\n",
    "\tcorpus = []\n",
    "\tvalid_idx = []\n",
    "\tfor i, path in enumerate(paths):\n",
    "\t\ttry:\n",
    "\t\t\ttree = et.parse(path)\n",
    "\t\t\troot = tree.getroot()\n",
    "\t\t\ttxt = root[0][2].text.replace('\\n', '').replace('\\t', '')\n",
    "\t\t\tcorpus.append(' '.join(txt.split()))\n",
    "\t\t\tvalid_idx.append(i)\n",
    "\t\texcept:\n",
    "\t\t\tprint(path, \"can't open\")\n",
    "\treturn corpus, valid_idx"
   ]
  },
  {
   "cell_type": "code",
   "execution_count": 3,
   "metadata": {},
   "outputs": [
    {
     "name": "stdout",
     "output_type": "stream",
     "text": [
      "../data/training/data/01_verdict/01_civil/2017나10869.xml can't open\n",
      "../data/training/data/01_verdict/01_civil/2017나111176.xml can't open\n",
      "../data/training/data/01_verdict/01_civil/2017나11160.xml can't open\n",
      "../data/training/data/01_verdict/01_civil/2017나115369.xml can't open\n",
      "../data/training/data/01_verdict/01_civil/2017나15475.xml can't open\n",
      "../data/training/data/01_verdict/01_civil/2017나2002746.xml can't open\n",
      "../data/training/data/01_verdict/02_criminal/2017노2053.xml can't open\n",
      "../data/training/data/01_verdict/02_criminal/2017노2465.xml can't open\n",
      "../data/training/data/01_verdict/03_administration/2017누63483.xml can't open\n",
      "../data/training/data/01_verdict/03_administration/2017누7307.xml can't open\n",
      "../data/training/data/01_verdict/03_administration/2017누7918.xml can't open\n",
      "../data/training/data/01_verdict/03_administration/2018구합224.xml can't open\n",
      "../data/training/data/01_verdict/03_administration/2018구합56077.xml can't open\n"
     ]
    }
   ],
   "source": [
    "train_data_path = glob.glob('../data/training/data/01_verdict/*/*.xml')\n",
    "train_label_path = glob.glob('../data/training/label/01_verdict/*/*.json')\n",
    "\n",
    "train_corpus, valid_idx = preprocess(train_data_path)\n",
    "train_label_path = [train_label_path[i] for i in valid_idx]"
   ]
  },
  {
   "cell_type": "code",
   "execution_count": 4,
   "metadata": {},
   "outputs": [
    {
     "data": {
      "text/plain": [
       "'대구고법 2018. 7. 20. 선고 2016나272 판결 : 확정대구고법 2018. 7. 20.선고 2016나272 판결 : 확정 계약체결절차이행 , 각공2018하,182 판시사항 갑 아파트 입주자대표회의가 장기수선충당금으로 실시하는 아파트 건물 균열보수 등 공사의 수급인을 선정하기 위하여 국토교통부장관이 구 주택법 제45조의7 에 의하여 운영하는 공동주택관리정보시스템을 통한 전자입찰을 공고하고 현장설명회에서 지하주차장 천장균열 누수부는 반드시 지하주차장특허공법을 사용하여야 한다 고 기재된 시방서를 배부하자, 을 000가 위 특허공법에 대한 사용승인서를 제출하여 입찰하였고, 개찰을 위한 입주자대표회의에서 갑 아파트 관리소장이 입주자대표회의 회장이 개찰에 반대하며 회의장을 나간 상태에서 동대표 병의 지시에 따라 공동주택관리정보시스템에 접속하여 위 사용승인서를 제출한 업체들을 서류심사 통과업체로 선정한 다음 개찰을 실시하여 위 업체들 중 입찰가액이 최저인 을 회사가 낙찰자로 결정되었다고 입력함으로써 이러한 내용의 전자문서가 위 시스템에 게시되었는데, 그 후 갑 아파트 입주자대표회의가을 회사에 위 입찰에서 을 회사가 낙찰되었지만 입찰과정에서 구 주택관리업자 및 사업자 선정지침 등을 위반하였으므로 낙찰이 취소되었다 는 취지의 문서를 보내자, 을 000가 계약체결의 이행 등을 구한 사안에서,을 000의 입찰은 위 선정지침 제5조 별표 3 제4호를 위반하여 무효라고 한 사례 판결요지 갑 아파트 입주자대표회의가 장기수선충당금으로 실시하는 아파트 건물 균열보수 등 공사의 수급인을 선정하기 위하여 국토교통부장관이 구 주택법(2014. 12. 31. 법률 제12959호로 개정되기 전의 것, 이하 구 주택법 이라 한다) 제45조의7 에 의하여 운영하는 공동주택관리정보시스템을 통한 전자입찰을 공고하고 현장설명회에서 지하주차장 천장균열 누수부는 반드시 지하주차장특허공법을 사용하여야 한다 고 기재된 시방서를 배부하자, 을 000가 위 특허공법에 대한 사용승인서를 제출하여 입찰하였고,'"
      ]
     },
     "execution_count": 4,
     "metadata": {},
     "output_type": "execute_result"
    }
   ],
   "source": [
    "train_corpus[0][:1000]"
   ]
  },
  {
   "cell_type": "code",
   "execution_count": 5,
   "metadata": {},
   "outputs": [
    {
     "name": "stdout",
     "output_type": "stream",
     "text": [
      "../data/validation/data/01_verdict/02_criminal/2017고단6135.xml can't open\n"
     ]
    }
   ],
   "source": [
    "test_data_path = glob.glob('../data/validation/data/01_verdict/*/*.xml')\n",
    "test_label_path = glob.glob('../data/validation/label/01_verdict/*/*.json')\n",
    "\n",
    "test_corpus, valid_idx = preprocess(test_data_path)\n",
    "test_label_path = [test_label_path[i] for i in valid_idx]"
   ]
  },
  {
   "cell_type": "code",
   "execution_count": 6,
   "metadata": {},
   "outputs": [
    {
     "name": "stdout",
     "output_type": "stream",
     "text": [
      "using cached model. /home/piai/workspace/boaz_miniproject/KoSimCSE/.cache/kobert_v1.zip\n",
      "using cached model. /home/piai/workspace/boaz_miniproject/KoSimCSE/.cache/kobert_news_wiki_ko_cased-1087f8699e.spiece\n",
      "using cached model. /home/piai/workspace/boaz_miniproject/KoSimCSE/.cache/kobert_news_wiki_ko_cased-1087f8699e.spiece\n"
     ]
    },
    {
     "name": "stderr",
     "output_type": "stream",
     "text": [
      "/home/piai/workspace/boaz_miniproject/KoSimCSE/data/dataloader.py:178: UserWarning: Creating a tensor from a list of numpy.ndarrays is extremely slow. Please consider converting the list to a single numpy.ndarray with numpy.array() before converting to a tensor. (Triggered internally at ../torch/csrc/utils/tensor_new.cpp:230.)\n",
      "  inputs = {'source': torch.LongTensor(tensor_corpus),\n"
     ]
    }
   ],
   "source": [
    "model_ckpt = 'output/nli_checkpoint.pt'\n",
    "model, transform, device = example_model_setting(model_ckpt)\n",
    "\n",
    "inputs_corpus = convert_to_tensor(train_corpus, transform)\n",
    "corpus_embeddings = model.encode(inputs_corpus, device)"
   ]
  },
  {
   "cell_type": "code",
   "execution_count": 8,
   "metadata": {},
   "outputs": [
    {
     "name": "stdout",
     "output_type": "stream",
     "text": [
      "Query: 서울중앙지방법원 2018. 10. 26. 선고 2014가합530889 판결1서울중앙지방법원 2018. 10. 26. 고 2014가합530889 결손해배상(기), 미간행전문원고 대한민국 (소송대리인 000 담당변호사 00)피고 000 외 1인 (소송대리인 법무법인 00 외 1인)주문1. 원고의 피고 000에 대한 소를 각하한다.2. 피고 000 주식회사는 원\n",
      "\n",
      "\n",
      "======================\n",
      "\n",
      "\n",
      "\n",
      "Top 5 most similar sentences in corpus:\n",
      "idx: 116\n",
      "서울고등법원 2018. 10. 26. 선고 2018나2025678 판결1서울고등법원 2018. 10. 26.선고 2018나2025678 판결장비임대료청구등, 미간행전문원고, 피항소인 겸 항소인 000 (소송대리인 법무법인 000 담당변호사 00) 피고, 항소인 겸 피항소인 000 (소송대리인 변호사 00)대상판결제1심판결 서울중앙지방법원 2018. 5. 1 (Score: 0.8666)\n",
      "idx: 67\n",
      "서울중앙지방법원 2018. 9. 14. 선고 2017나48279 판결서울중앙지방법원 2018. 9. 14.선고 2017나48279 판결 손해배상(자) , 미간행 전문 원고, 피항소인 원고 1 외 4인 (소송대리인 변호사 00) 피고, 항소인 000 (소송대리인 000 담당변호사 00) 대상판결 제1심판결 서울중앙지방법원 2017. 6. 28. 선고 2015 (Score: 0.8580)\n",
      "idx: 30\n",
      "서울중앙지방법원 2018. 3. 14. 선고 2017가합549280 제36민사부 판결추심금사 건2017가합549280 추심금원 고000피 고000변 론 종 결2018. 2. 28.판 결 선 고2018. 3. 14.주 문1. 원고의 청구를 기각한다.2. 소송비용은 원고가 부담한다.청 구 취 지피고는 원고에게 5,645,837,818원 및 이에 대하여 2017 (Score: 0.8314)\n",
      "idx: 24\n",
      "부산지방법원 2018. 10. 10. 선고 2017가합2086 판결부산지방법원 2018. 10. 10.선고 2017가합2086 판결 채권조사확정재판에대한이의의소 , 미간행 전문 원 고 채무자 000의 파산관재인 000(소송대리인 000 담당변호사 00) 피 고 000 외 1인(소송대리인 000 담당변호사 00 외 1인) 주문 1. 부산지방법원의 2017.  (Score: 0.8260)\n",
      "idx: 62\n",
      "종합법률 정보특허법원 2018. 10. 26. 선고 2017나2677 판결 : 상고취하특허법원 2018. 10. 26.선고 2017나2677 판결 : 상고취하표장사용금지등, 각공2019상,1판시사항등록상표 0 등을 사용하여 홍삼제품 등을 판매하는 갑 주식회사가0,00,0의 표장을 홍삼을 주원료로 하는 건강기능식품에 표시하여 판매하는 을 주식회사를상대로 표장 (Score: 0.8169)\n"
     ]
    }
   ],
   "source": [
    "test_num = 2\n",
    "queries = [test_corpus[test_num]]\n",
    "\n",
    "# Find the closest 5 sentences of the corpus for each query sentence based on cosine similarity\n",
    "top_k = 5\n",
    "top_k_idx = []\n",
    "for query in queries:\n",
    "    query_embedding = model.encode(convert_to_tensor([query], transform), device)\n",
    "    cos_scores = pytorch_cos_sim(query_embedding, corpus_embeddings)[0]\n",
    "    cos_scores = cos_scores.cpu().detach().numpy()\n",
    "\n",
    "    top_results = np.argpartition(-cos_scores, range(top_k))[0:top_k]\n",
    "\n",
    "    print(\"Query:\", query[:200])\n",
    "    print(\"\\n\\n======================\\n\\n\")\n",
    "    print(\"\\nTop 5 most similar sentences in corpus:\")\n",
    "\n",
    "    for idx in top_results[0:top_k]:\n",
    "        print('idx:',idx)\n",
    "        top_k_idx.append(idx)\n",
    "        print(train_corpus[idx].strip()[:200], \"(Score: %.4f)\" % (cos_scores[idx]))"
   ]
  },
  {
   "cell_type": "code",
   "execution_count": 9,
   "metadata": {},
   "outputs": [
    {
     "data": {
      "text/plain": [
       "['중재법 제9조 ',\n",
       " '중재법 제2조 ',\n",
       " '민법 제667조 ',\n",
       " '구 군수품관리법 제24조',\n",
       " '민법 제391조',\n",
       " '국가재정법 제96조 ',\n",
       " '민법 제166조 ']"
      ]
     },
     "execution_count": 9,
     "metadata": {},
     "output_type": "execute_result"
    }
   ],
   "source": [
    "with open(test_label_path[test_num], 'r') as f:\n",
    "\ttest_label = json.load(f)\n",
    "test_label['info']['relateLaword']"
   ]
  },
  {
   "cell_type": "code",
   "execution_count": 10,
   "metadata": {},
   "outputs": [
    {
     "name": "stdout",
     "output_type": "stream",
     "text": [
      "idx: 116\n",
      "['특허법 제126조', '민사소송법 제1조', '민사소송법 제287조', '민사소송규칙 제47조', '민사소송규칙 제70조', '민사소송규칙 제82조', '민사소송법 제146조', '민사소송법 제272조', '민사소송법 제147조', '민사소송법 제285조', '민사소송법 제277조', '민사소송법 제149조']\n",
      "\n",
      "idx: 67\n",
      "['민사소송법 제420조', '채무자 회생법 제179조 ']\n",
      "\n",
      "idx: 30\n",
      "['전자상거래 등에서의 소비자보호에 관한 법률 제13조', '전자상거래 등에서의 소비자보호에 관한 법률 제17조', '전자상거래 등에서의 소비자보호에 관한 법률 제2항', '전자상거래 등에서의 소비자보호에 관한 법률 제18조', '전자상거래 등에서의 소비자보호에 관한 법률 제9항', ' 전자상거래 등에서의 소비자보호에 관한 법률 제11항', '전자상거래 등에서의 소비자보호에 관한 법률 제35조']\n",
      "\n",
      "idx: 24\n",
      "['채무자 회생 및 파산에 관한 법률 제250조', '기술보증기금법 제37조', '신용보증기금법 제30조']\n",
      "\n",
      "idx: 62\n",
      "['민법 제741조', '지방세법 시행령 제20조', '지방세기본법 제35조', '지방세기본법 제53조', '지방세법 제7조', '지방세법 제18조', '지방세법 제20조', '지방세법 제21조', '지방세법 제150조', '지방세법 제152조']\n",
      "\n"
     ]
    }
   ],
   "source": [
    "for idx in top_k_idx:\n",
    "\twith open(train_label_path[idx], 'r') as f:\n",
    "\t\ttrain_label = json.load(f)\n",
    "\tprint(\"idx:\",idx)\n",
    "\tprint(train_label['info']['relateLaword'])\n",
    "\tprint()"
   ]
  },
  {
   "cell_type": "code",
   "execution_count": null,
   "metadata": {},
   "outputs": [],
   "source": []
  }
 ],
 "metadata": {
  "kernelspec": {
   "display_name": "Python 3.8.16 ('boaz')",
   "language": "python",
   "name": "python3"
  },
  "language_info": {
   "codemirror_mode": {
    "name": "ipython",
    "version": 3
   },
   "file_extension": ".py",
   "mimetype": "text/x-python",
   "name": "python",
   "nbconvert_exporter": "python",
   "pygments_lexer": "ipython3",
   "version": "3.8.16"
  },
  "orig_nbformat": 4,
  "vscode": {
   "interpreter": {
    "hash": "d9856bf8015914a98176e3707751af13ec8aea467bb64c23a5a223d09a639135"
   }
  }
 },
 "nbformat": 4,
 "nbformat_minor": 2
}
