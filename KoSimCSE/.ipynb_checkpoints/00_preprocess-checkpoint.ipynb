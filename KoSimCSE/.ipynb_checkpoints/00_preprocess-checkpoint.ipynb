{
 "cells": [
  {
   "cell_type": "code",
   "execution_count": 12,
   "metadata": {},
   "outputs": [],
   "source": [
    "%matplotlib inline\n",
    "import glob\n",
    "import xml.etree.ElementTree as et\n",
    "import re"
   ]
  },
  {
   "cell_type": "code",
   "execution_count": 4,
   "metadata": {},
   "outputs": [
    {
     "name": "stdout",
     "output_type": "stream",
     "text": [
      "['../data/training/data/01_verdict/03_administration/2018구합61208.xml', '../data/training/data/01_verdict/03_administration/2017누82170.xml', '../data/training/data/01_verdict/03_administration/2017누24288.xml', '../data/training/data/01_verdict/03_administration/2017누72920.xml', '../data/training/data/01_verdict/03_administration/2018누36365.xml']\n",
      "['../data/training/data/01_verdict/03_administration/2018구합61208.xml', '../data/training/data/01_verdict/03_administration/2017누82170.xml', '../data/training/data/01_verdict/03_administration/2017누24288.xml', '../data/training/data/01_verdict/03_administration/2017누72920.xml', '../data/training/data/01_verdict/03_administration/2018누36365.xml']\n"
     ]
    }
   ],
   "source": [
    "train_data_path = glob.glob('../data/training/data/01_verdict/*/*.xml')\n",
    "train_label_path = glob.glob('../data/training/label/01_verdict/*/*.xml')\n",
    "\n",
    "print(train_data_path[:5])\n",
    "print(train_data_path[:5])"
   ]
  },
  {
   "cell_type": "code",
   "execution_count": 5,
   "metadata": {},
   "outputs": [
    {
     "name": "stdout",
     "output_type": "stream",
     "text": [
      "\n",
      "\t\t\n",
      "\n",
      "종합법률정보 특허법원 2018. 2. 8. 선고 2017나2332 판결 : 상고\n",
      "\n",
      "특허법원 2018. 2. 8.선고 2017나2332 판결 : 상고\n",
      "\n",
      "손해배상(지), 각공2016상,252\n",
      "\n",
      "판시사항\n",
      "\n",
      "갑 외국법인의 자회사인 을 주식회사가 갑 법인의 자회사인 병 외국법인으로부터 병 법인이 특허권을 보유한\n",
      "\n",
      "중추신경계 질환의 치료에 유용한 화합물인 올란자핀 에 관한 특허발명의 통상실시권을 부여받아 올란자핀\n",
      "\n",
      "이 함유된 제품을 독점적으로 국내에 수입하여 판매해 왔는데, 위 특허발명의 존속기간 만료일이 다가오자 국\n",
      "\n",
      "내 제약사인 정 주식회사가 을 회사 제품의 제네릭 의약품인 정 회사 제품에 관하여 판매예정시기를 특허만\n",
      "\n",
      "료일 이후 로 하여 건강보험심사평가원에 요양급여대상 여부 결정신청을 하였다가 위 특허발명에 관한 등록무\n",
      "\n",
      "효청구사건에서 특허발명의 진보성이 부정된다는 취지의 판결이 선고되자 판매예정시기를 등재 후 즉시로\n",
      "\n",
      "변경신청을 하여 그 무렵부터 위 제품을 제조·판매하기 시작하였고, 이에 따라 보건복지부장관은 구 국민건강\n",
      "\n",
      "보험법 등 관련 법령에 따라 을 회사 제품의 약제 급여 상한액을 종전 금액보다 인하하였는데, 그 후 위 판결\n",
      "\n",
      "이 파기되어 파기환송심에서 특허발명의 진보성이 부정되지 않는다는 이유로 등록무효청구를 기각하는 판결이\n",
      "\n",
      "선고되어 확정되자, 을 회사가 정 회사에 대하여 불법행위에 따른 손해배상으로 약가가 인하된 날부터 특허권\n",
      "\n",
      "존속기간 만료일까지의 약가 인하로 인한 매출액 감소분과 그 지연배상금 상당의 지급을 구한 사안에서, 정\n",
      "\n",
      "회사는 을 회사가 입은 위 손해에 대하여 불법행위에 따른 손해배상책임이 있다고 한 사례\n",
      "\n",
      "판결요지\n",
      "\n",
      "갑 외국법인의 자회사인 을 주식회사가 갑 법인의 자회사인 병 외국법인으로부터 병 법인이 특허권을 보유한\n",
      "\n",
      "중추신경계 질환의 치료에 유용한 화합물인 올란자핀에 관한 특허발명의 통상실시권을 부여받아 올란자핀\n",
      "\n",
      "이 함유된 제품을 독점적으로 국내에 수입하여 판매해 왔는데, 위 특허발명의 존속기간 만료일이 다가오자 국\n",
      "\n",
      "내 제\n"
     ]
    }
   ],
   "source": [
    "tree = et.parse(train_data_path[-1])\n",
    "root = tree.getroot()\n",
    "txt = root[0][2].text\n",
    "print(txt[:1000])"
   ]
  },
  {
   "cell_type": "code",
   "execution_count": 8,
   "metadata": {},
   "outputs": [],
   "source": [
    "# Remove HTML tags\n",
    "txt = re.sub(r'<[^>]+>', '', txt)\n",
    "    \n",
    "# Remove punctuation and special characters\n",
    "txt = re.sub(r'[^\\w\\s]', '', txt)\n",
    "   \n",
    "# Remove redundant spaces and newlines\n",
    "txt = re.sub(r'\\s+', ' ', txt)\n",
    "txt = re.sub(r'\\n+', ' ', txt)\n",
    "    \n",
    "# Remove stop words\n",
    "stop_words = set(['의', '를', '이', '가', '으로', '에', '하', '에게', '도', '등'])\n",
    "txt = ' '.join(word for word in txt.split() if word not in stop_words)"
   ]
  },
  {
   "cell_type": "code",
   "execution_count": 16,
   "metadata": {},
   "outputs": [
    {
     "ename": "ModuleNotFoundError",
     "evalue": "No module named 'konlpy'",
     "output_type": "error",
     "traceback": [
      "\u001b[0;31m---------------------------------------------------------------------------\u001b[0m",
      "\u001b[0;31mModuleNotFoundError\u001b[0m                       Traceback (most recent call last)",
      "\u001b[0;32m<ipython-input-16-865e6401a1de>\u001b[0m in \u001b[0;36m<module>\u001b[0;34m\u001b[0m\n\u001b[0;32m----> 1\u001b[0;31m \u001b[0;32mfrom\u001b[0m \u001b[0mkonlpy\u001b[0m\u001b[0;34m.\u001b[0m\u001b[0mtag\u001b[0m \u001b[0;32mimport\u001b[0m \u001b[0mMecab\u001b[0m\u001b[0;34m\u001b[0m\u001b[0;34m\u001b[0m\u001b[0m\n\u001b[0m\u001b[1;32m      2\u001b[0m \u001b[0;34m\u001b[0m\u001b[0m\n\u001b[1;32m      3\u001b[0m \u001b[0mmecab\u001b[0m \u001b[0;34m=\u001b[0m \u001b[0mMecab\u001b[0m\u001b[0;34m(\u001b[0m\u001b[0;34m)\u001b[0m\u001b[0;34m\u001b[0m\u001b[0;34m\u001b[0m\u001b[0m\n\u001b[1;32m      4\u001b[0m \u001b[0mmecab\u001b[0m\u001b[0;34m.\u001b[0m\u001b[0mnouns\u001b[0m\u001b[0;34m(\u001b[0m\u001b[0mtxt\u001b[0m\u001b[0;34m)\u001b[0m\u001b[0;34m\u001b[0m\u001b[0;34m\u001b[0m\u001b[0m\n\u001b[1;32m      5\u001b[0m \u001b[0mmecab\u001b[0m\u001b[0;34m.\u001b[0m\u001b[0mmorphs\u001b[0m\u001b[0;34m(\u001b[0m\u001b[0mtxt\u001b[0m\u001b[0;34m)\u001b[0m\u001b[0;34m\u001b[0m\u001b[0;34m\u001b[0m\u001b[0m\n",
      "\u001b[0;31mModuleNotFoundError\u001b[0m: No module named 'konlpy'"
     ]
    }
   ],
   "source": [
    "from konlpy.tag import Mecab\n",
    "\n",
    "mecab = Mecab() \n",
    "mecab.nouns(txt) \n",
    "mecab.morphs(txt)"
   ]
  },
  {
   "cell_type": "code",
   "execution_count": null,
   "metadata": {},
   "outputs": [],
   "source": []
  }
 ],
 "metadata": {
  "kernelspec": {
   "display_name": "Python 3",
   "language": "python",
   "name": "python3"
  },
  "language_info": {
   "codemirror_mode": {
    "name": "ipython",
    "version": 3
   },
   "file_extension": ".py",
   "mimetype": "text/x-python",
   "name": "python",
   "nbconvert_exporter": "python",
   "pygments_lexer": "ipython3",
   "version": "3.7.4"
  },
  "vscode": {
   "interpreter": {
    "hash": "d9856bf8015914a98176e3707751af13ec8aea467bb64c23a5a223d09a639135"
   }
  }
 },
 "nbformat": 4,
 "nbformat_minor": 2
}
